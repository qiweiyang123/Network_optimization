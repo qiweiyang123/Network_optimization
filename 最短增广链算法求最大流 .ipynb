{
 "cells": [
  {
   "cell_type": "code",
   "execution_count": 1,
   "metadata": {},
   "outputs": [
    {
     "name": "stdout",
     "output_type": "stream",
     "text": [
      "最大流为：8\n",
      "最大可行流：[[0, 3, 0, 5, 0, 0], [0, 0, 2, 0, 1, 0], [0, 0, 0, 0, 0, 2], [0, 0, 0, 0, 5, 0], [0, 0, 0, 0, 0, 6], [0, 0, 0, 0, 0, 0]]\n"
     ]
    }
   ],
   "source": [
    "from queue import Queue\n",
    "\n",
    "\n",
    "n = 9    # 边的个数\n",
    "m = 6    # 点的个数\n",
    "\n",
    "# 残余图的剩余流量\n",
    "residual = [[0 for i in range(m)] for j in range(m)]\n",
    "\n",
    "# 记录最大流图，初始都为0\n",
    "maxflowgraph = [[0 for i in range(m)] for j in range(m)]\n",
    "                                                     \n",
    "# 记录增广路径前进过程记录的最小流量\n",
    "flow = [0 for i in range(m)]\n",
    "                                                     \n",
    "# 记录增广路径每个节点的前驱\n",
    "pre = [float('inf') for i in range(m)]\n",
    "                                                     \n",
    "# 队列，用于BFS地寻找增广路径\n",
    "q = Queue()\n",
    "\n",
    "# 设置初始图的流量走向\n",
    "residual[0][1] = 4\n",
    "residual[0][3] = 6\n",
    "residual[1][2] = 2\n",
    "residual[1][3] = 2\n",
    "residual[1][4] = 1\n",
    "residual[2][5] = 4\n",
    "residual[3][4] = 5\n",
    "residual[4][2] = 3\n",
    "residual[4][5] = 7\n",
    "\n",
    "\n",
    "def BFS(source,sink):\n",
    "    q.empty()      # 清空队列\n",
    "\n",
    "    for i in range(m):\n",
    "        pre[i] = float('inf')\n",
    "\n",
    "    flow[source] = float('inf')      # 这里要是不改，那么找到的路径的流量永远是0\n",
    "    # 不用将flow的其他清零\n",
    "    q.put(source)\n",
    "    while(not q.empty()):\n",
    "        index = q.get()\n",
    "        if(index == sink):\n",
    "            break\n",
    "        for i in range(m):\n",
    "            if((i!=source) & (residual[index][i]>0) & (pre[i]==float('inf'))):\n",
    "                # i!=source，从source到source不用分析了\n",
    "                # residual[index][i]>0，边上有流量可以走\n",
    "                # pre[i]==float('inf')，代表BFS还没有延伸到这个点上\n",
    "                pre[i] = index\n",
    "                flow[i] = min(flow[index], residual[index][i])\n",
    "                q.put(i)\n",
    "    if(pre[sink] == float('inf')):\n",
    "        # 汇点的前驱还是初始值，说明已无增广路径\n",
    "        return -1\n",
    "    else:\n",
    "        return flow[sink]\n",
    "\n",
    "def maxflow(source,sink):\n",
    "    sumflow = 0         # 记录最大流，一直累加\n",
    "    augmentflow = 0       # 当前寻找到的增广路径的最小通过流量\n",
    "    while(True):\n",
    "        augmentflow = BFS(source, sink)\n",
    "        if(augmentflow == -1):\n",
    "            break       # 返回-1说明已没有增广路径\n",
    "        k = sink\n",
    "        while(k!=source):     # k回溯到起点，停止\n",
    "            prev = pre[k]     # 走的方向是从prev到k\n",
    "            maxflowgraph[prev][k] += augmentflow\n",
    "            residual[prev][k] -= augmentflow      # 前进方向消耗掉了\n",
    "            residual[k][prev] += augmentflow      # 反向边\n",
    "            k = prev\n",
    "        sumflow += augmentflow\n",
    "    return sumflow\n",
    "\n",
    "result = maxflow(0, m-1)\n",
    "print(f'最大流为：{result}')\n",
    "print(f'最大可行流：{maxflowgraph}')"
   ]
  },
  {
   "cell_type": "code",
   "execution_count": null,
   "metadata": {},
   "outputs": [],
   "source": []
  }
 ],
 "metadata": {
  "kernelspec": {
   "display_name": "Python 3",
   "language": "python",
   "name": "python3"
  },
  "language_info": {
   "codemirror_mode": {
    "name": "ipython",
    "version": 3
   },
   "file_extension": ".py",
   "mimetype": "text/x-python",
   "name": "python",
   "nbconvert_exporter": "python",
   "pygments_lexer": "ipython3",
   "version": "3.7.6"
  }
 },
 "nbformat": 4,
 "nbformat_minor": 4
}
