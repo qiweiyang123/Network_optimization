{
 "cells": [
  {
   "cell_type": "markdown",
   "metadata": {},
   "source": [
    "## Ford算法求顶点v1到其余各顶点的最短路"
   ]
  },
  {
   "cell_type": "code",
   "execution_count": 1,
   "metadata": {},
   "outputs": [
    {
     "data": {
      "text/plain": [
       "(array([ 0,  1,  3,  2, -1]), array([-1.,  1.,  2.,  5.,  3.]))"
      ]
     },
     "execution_count": 1,
     "metadata": {},
     "output_type": "execute_result"
    }
   ],
   "source": [
    "import numpy as np\n",
    "\n",
    "\n",
    "def ford(weight_matrix):\n",
    "    n = len(weight_matrix)      \n",
    "    u = weight_matrix[0,:]    # 初始化最短距离矩阵\n",
    "    l = np.zeros(n)         # 令l(v1)=-1,l(vj)=1\n",
    "    # 初始化父节点\n",
    "    l[0] = -1\n",
    "    l[1:] = 1\n",
    "    \n",
    "    for k in range(n-2):\n",
    "        for j in range(n):\n",
    "            # 找到min(ui + wij) \n",
    "            for i in range(n):\n",
    "                if u[j] > u[i] + weight_matrix[i,j]:\n",
    "                    u[j] = u[i] + weight_matrix[i,j]\n",
    "                    # 记录父节点\n",
    "                    l[j] = i + 1\n",
    "\n",
    "    return u,l\n",
    "        \n",
    "weight_matrix=np.array([[0,1,5,999,3],\n",
    "                        [999,0,2,999,999],\n",
    "                        [999,999,0,999,-4],\n",
    "                        [999,999,2,0,999],\n",
    "                        [999,999,999,3,0]])\n",
    "\n",
    "ford(weight_matrix)\n"
   ]
  },
  {
   "cell_type": "code",
   "execution_count": null,
   "metadata": {},
   "outputs": [],
   "source": []
  },
  {
   "cell_type": "code",
   "execution_count": null,
   "metadata": {},
   "outputs": [],
   "source": []
  },
  {
   "cell_type": "code",
   "execution_count": null,
   "metadata": {},
   "outputs": [],
   "source": []
  }
 ],
 "metadata": {
  "kernelspec": {
   "display_name": "Python 3",
   "language": "python",
   "name": "python3"
  },
  "language_info": {
   "codemirror_mode": {
    "name": "ipython",
    "version": 3
   },
   "file_extension": ".py",
   "mimetype": "text/x-python",
   "name": "python",
   "nbconvert_exporter": "python",
   "pygments_lexer": "ipython3",
   "version": "3.8.3"
  }
 },
 "nbformat": 4,
 "nbformat_minor": 4
}
