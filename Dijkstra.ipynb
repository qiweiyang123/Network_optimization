{
 "cells": [
  {
   "cell_type": "code",
   "execution_count": 7,
   "metadata": {},
   "outputs": [
    {
     "data": {
      "text/plain": [
       "array([[ 0.,  0.,  0.,  0., 25.],\n",
       "       [ 0.,  0.,  0.,  0.,  0.],\n",
       "       [ 0., 15.,  0.,  0.,  0.],\n",
       "       [ 0.,  0., 10.,  0.,  0.],\n",
       "       [ 0.,  0.,  0., 10.,  0.]])"
      ]
     },
     "execution_count": 7,
     "metadata": {},
     "output_type": "execute_result"
    }
   ],
   "source": [
    "import numpy as np\n",
    "\n",
    "\n",
    "def Dijkstra(graph):\n",
    "    n = len(graph)\n",
    "    result = np.zeros((n,n))    # 初始化转移矩阵\n",
    "    a = 0\n",
    "    graph[:,0]=1000             # 将第一列元素都改为x，用1000表示\n",
    "\n",
    "    for x in range(n):\n",
    "        i = a\n",
    "        row = graph[i,:n]\n",
    "        a = np.argmin(row)        # 找出最小值所在列的索引\n",
    "    \n",
    "        # 找出第i行最小值，如果最小值为1000，停止循环\n",
    "        min = graph[i][a]\n",
    "        col = graph[:,a]\n",
    "        if min == 1000:\n",
    "            break\n",
    "    \n",
    "        # 将最小值存入result中\n",
    "        result[i][a]=min\n",
    "    \n",
    "        # 将a列除所圈中的元素之外所有的元素都修改为1000\n",
    "        for j in range(n):\n",
    "            if j != i :\n",
    "                graph[j][a] =1000\n",
    "    return result\n",
    "    \n",
    "            \n",
    "Inf = float('inf')\n",
    "graph=np.array([[Inf,50,30,40,25],\n",
    "                [50,Inf,15,20,Inf],\n",
    "                [30,15,Inf,10,20],\n",
    "                [40,20,10,Inf,10],\n",
    "                [25,Inf,20,10,Inf]])\n",
    "\n",
    "Dijkstra(graph)"
   ]
  },
  {
   "cell_type": "code",
   "execution_count": null,
   "metadata": {},
   "outputs": [],
   "source": []
  },
  {
   "cell_type": "code",
   "execution_count": null,
   "metadata": {},
   "outputs": [],
   "source": []
  },
  {
   "cell_type": "code",
   "execution_count": null,
   "metadata": {},
   "outputs": [],
   "source": []
  }
 ],
 "metadata": {
  "kernelspec": {
   "display_name": "Python 3",
   "language": "python",
   "name": "python3"
  },
  "language_info": {
   "codemirror_mode": {
    "name": "ipython",
    "version": 3
   },
   "file_extension": ".py",
   "mimetype": "text/x-python",
   "name": "python",
   "nbconvert_exporter": "python",
   "pygments_lexer": "ipython3",
   "version": "3.7.6"
  }
 },
 "nbformat": 4,
 "nbformat_minor": 4
}

