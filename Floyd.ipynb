{
 "cells": [
  {
   "cell_type": "code",
   "execution_count": 1,
   "metadata": {},
   "outputs": [
    {
     "name": "stdout",
     "output_type": "stream",
     "text": [
      "输出的权矩阵为：\n",
      "[[ 0  4  5  3  8]\n",
      " [ 2  0  3  1  6]\n",
      " [-1 -1  0 -2  3]\n",
      " [ 3  1  4  0  7]\n",
      " [-4  0  1 -1  0]]\n",
      "输出的路径矩阵为：\n",
      "[[1 2 3 3 3]\n",
      " [5 2 3 3 5]\n",
      " [5 4 3 4 5]\n",
      " [2 2 2 4 2]\n",
      " [1 1 1 1 5]]\n"
     ]
    }
   ],
   "source": [
    "import numpy as np\n",
    "\n",
    "def floyd(U,R):\n",
    "    n = len(U)\n",
    "    r = R\n",
    "    u = U\n",
    "    for k in range(n):\n",
    "        for i in range(n):\n",
    "            for j in range(n):\n",
    "                # 不断地更新路径，每次找到vi到vj最短的路径\n",
    "                if U[i][j] > U[i][k] + U[k][j]:\n",
    "                    u[i][j] = U[i][k] + U[k][j]\n",
    "                    r[i][j] = R[i][k]\n",
    "                else:\n",
    "                    r[i][j] = R[i][j]\n",
    "                    u[i][j] = U[i][j]\n",
    "            \n",
    "    return u,r\n",
    "\n",
    "U = np.array([[0, 4, 5, 999, 999],\n",
    "              [999, 0, 3, 999, 6],\n",
    "              [999, 999, 0, -2, 3],\n",
    "              [999, 1, 999, 0, 999],\n",
    "              [-4, 999, 999, 2, 0]])\n",
    "\n",
    "R = np.array([[1, 2, 3, 4, 5],\n",
    "              [1, 2, 3, 4, 5],\n",
    "              [1, 2, 3, 4, 5],\n",
    "              [1, 2, 3, 4, 5],\n",
    "              [1, 2, 3, 4, 5]])\n",
    "\n",
    "U, R = floyd(U,R)\n",
    "print(f'输出的权矩阵为：\\n{U}')\n",
    "print(f'输出的路径矩阵为：\\n{R}')"
   ]
  },
  {
   "cell_type": "code",
   "execution_count": null,
   "metadata": {},
   "outputs": [],
   "source": []
  }
 ],
 "metadata": {
  "kernelspec": {
   "display_name": "Python 3",
   "language": "python",
   "name": "python3"
  },
  "language_info": {
   "codemirror_mode": {
    "name": "ipython",
    "version": 3
   },
   "file_extension": ".py",
   "mimetype": "text/x-python",
   "name": "python",
   "nbconvert_exporter": "python",
   "pygments_lexer": "ipython3",
   "version": "3.7.6"
  }
 },
 "nbformat": 4,
 "nbformat_minor": 4
}
