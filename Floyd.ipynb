{
 "cells": [
  {
   "cell_type": "code",
   "execution_count": 5,
   "metadata": {},
   "outputs": [
    {
     "data": {
      "text/plain": [
       "(array([[ 0,  4,  5,  3,  8],\n",
       "        [ 2,  0,  3,  1,  6],\n",
       "        [-1, -1,  0, -2,  3],\n",
       "        [ 3,  1,  4,  0,  7],\n",
       "        [-4,  0,  1, -1,  0]]),\n",
       " array([[1, 2, 3, 4, 5],\n",
       "        [5, 2, 3, 4, 5],\n",
       "        [5, 4, 3, 4, 5],\n",
       "        [4, 4, 4, 4, 5],\n",
       "        [5, 5, 5, 5, 5]]))"
      ]
     },
     "execution_count": 5,
     "metadata": {},
     "output_type": "execute_result"
    }
   ],
   "source": [
    "import numpy as np\n",
    "\n",
    "def floyd(U,R):\n",
    "    n = len(U)\n",
    "    for i in range(n):\n",
    "        for j in range(n):\n",
    "            for k in range(n):\n",
    "                # 不断地更新路径，每次找到vi到vj最短的路径\n",
    "                if U[i][j] >= U[i][k] + U[k][j]:\n",
    "                    U[i][j] = U[i][k] + U[k][j]\n",
    "                    s = k\n",
    "            if s != j:\n",
    "                R[i][j] = R[i][s]\n",
    "            \n",
    "    return U,R\n",
    "\n",
    "U = np.array([[0,4,5,999,999],\n",
    "              [999,0,3,999,6],\n",
    "              [999,999,0,-2,3],\n",
    "              [999,1,999,0,999],\n",
    "              [-4,999,999,2,0]])\n",
    "R = np.array([[1,2,3,4,5],[1,2,3,4,5],[1,2,3,4,5],[1,2,3,4,5],[1,2,3,4,5]])\n",
    "floyd(U,R)\n"
   ]
  },
  {
   "cell_type": "code",
   "execution_count": null,
   "metadata": {},
   "outputs": [],
   "source": []
  }
 ],
 "metadata": {
  "kernelspec": {
   "display_name": "Python 3",
   "language": "python",
   "name": "python3"
  },
  "language_info": {
   "codemirror_mode": {
    "name": "ipython",
    "version": 3
   },
   "file_extension": ".py",
   "mimetype": "text/x-python",
   "name": "python",
   "nbconvert_exporter": "python",
   "pygments_lexer": "ipython3",
   "version": "3.8.3"
  }
 },
 "nbformat": 4,
 "nbformat_minor": 4
}
